{
 "cells": [
  {
   "cell_type": "markdown",
   "metadata": {},
   "source": [
    "# backtracking\n",
    "\n",
    "- returns all possible solutions for the constraints --> Brute force solutions"
   ]
  },
  {
   "cell_type": "code",
   "execution_count": 1,
   "metadata": {},
   "outputs": [],
   "source": [
    "# Template\n",
    "# helper functions\n",
    "def is_valid_state(state):\n",
    "    # check if it is a valid solution\n",
    "    return True\n",
    "\n",
    "def get_candidates(state):\n",
    "    return []\n",
    "\n",
    "def search(state,solution):\n",
    "    if is_valid_state(state):\n",
    "        solutions.append(state.copy())\n",
    "        #return\n",
    "        \n",
    "    for candidate in get_candidates(state):\n",
    "        state.add(candidate)\n",
    "        search(state,solutions)\n",
    "        state.remove(candidate)\n",
    "        \n",
    "#main code        \n",
    "def solve():\n",
    "    solution = []\n",
    "    state = set()\n",
    "    search(state,solutions)\n",
    "    return solutions"
   ]
  },
  {
   "cell_type": "markdown",
   "metadata": {},
   "source": [
    "# N queens problem"
   ]
  },
  {
   "cell_type": "code",
   "execution_count": 27,
   "metadata": {},
   "outputs": [
    {
     "name": "stdout",
     "output_type": "stream",
     "text": [
      "[0, 2, 4, 1, 3] [0, 3, 1, 4, 2] [1, 3, 0, 2, 4] [1, 4, 2, 0, 3] [2, 0, 3, 1, 4] [2, 4, 1, 3, 0] [3, 0, 2, 4, 1] [3, 1, 4, 2, 0] [4, 1, 3, 0, 2] [4, 2, 0, 3, 1]\n"
     ]
    }
   ],
   "source": [
    "# example solution for a 4*4 chess board --> row position of queens = [1,3,0,2] or [2,0,3,1]\n",
    "\n",
    "def solve(n):\n",
    "    solution = []\n",
    "    state = []\n",
    "    search(state,solution,n)\n",
    "    return solution\n",
    "\n",
    "def is_valid_state(state,n):\n",
    "    return len(state) == n\n",
    "\n",
    "def get_candidates(state,n):\n",
    "    if not state:\n",
    "        return range(n)\n",
    "    position = len(state)\n",
    "    candidates = set(range(n))\n",
    "    \n",
    "    for row,col in enumerate(state):\n",
    "        candidates.discard(col)\n",
    "        dist = position - row\n",
    "        candidates.discard(col+dist)\n",
    "        candidates.discard(col-dist)\n",
    "        \n",
    "    return candidates\n",
    "\n",
    "def search(state,solution,n):\n",
    "    if is_valid_state(state,n):\n",
    "        solution.append(state.copy())\n",
    "        return\n",
    "    for candidates in get_candidates(state,n):\n",
    "        state.append(candidates)\n",
    "        search(state,solution,n)\n",
    "        state.pop()\n",
    "        \n",
    "print(*solve(5))\n"
   ]
  },
  {
   "cell_type": "code",
   "execution_count": 47,
   "metadata": {},
   "outputs": [
    {
     "name": "stdout",
     "output_type": "stream",
     "text": [
      "[2, 3, 5] [2, 5, 3] [3, 2, 5] [3, 5, 2] [5, 2, 3] [5, 3, 2]\n"
     ]
    }
   ],
   "source": [
    "# find all permutations of a list\n",
    "\n",
    "a = [2,3,5]\n",
    "# choose values one by one till we get the same array size\n",
    "def is_valid_state(state,a):\n",
    "    return len(state) == len(a) \n",
    "\n",
    "def permute(state,arr):  # get_candidate function which provides for all the possible options remaining\n",
    "                         # to be filled in the state\n",
    "    a = arr.copy() # create a copy so not to disturb the original array      \n",
    "    if not state:\n",
    "        return a\n",
    "    for i in state:\n",
    "        if i in a:\n",
    "            a.remove(i)\n",
    "    return a # just return a without removing elements to get subarray with duplicates\n",
    "    \n",
    "\n",
    "\n",
    "def search(state,a,solutions):\n",
    "    if is_valid_state(state,a) :\n",
    "        solutions.append(state.copy())\n",
    "        return \n",
    "    for candidate in permute(state,a):\n",
    "        state.append(candidate)\n",
    "        search(state,a,solutions)\n",
    "        state.pop()\n",
    "        \n",
    "def solve(a):\n",
    "    state=[]\n",
    "    solutions = []\n",
    "    search(state,a,solutions)\n",
    "    return solutions\n",
    "\n",
    "print(*solve(a))"
   ]
  },
  {
   "cell_type": "markdown",
   "metadata": {},
   "source": [
    "# Knight tour problem"
   ]
  },
  {
   "cell_type": "code",
   "execution_count": 1,
   "metadata": {},
   "outputs": [
    {
     "data": {
      "text/plain": [
       "[[(1, 1),\n",
       "  (3, 2),\n",
       "  (5, 3),\n",
       "  (7, 4),\n",
       "  (5, 5),\n",
       "  (7, 6),\n",
       "  (5, 7),\n",
       "  (3, 6),\n",
       "  (1, 7),\n",
       "  (2, 5),\n",
       "  (4, 6),\n",
       "  (6, 7),\n",
       "  (7, 5),\n",
       "  (5, 6),\n",
       "  (7, 7),\n",
       "  (6, 5),\n",
       "  (4, 4),\n",
       "  (6, 3),\n",
       "  (4, 2),\n",
       "  (6, 1),\n",
       "  (7, 3),\n",
       "  (5, 4),\n",
       "  (3, 5),\n",
       "  (2, 7),\n",
       "  (1, 5),\n",
       "  (2, 3),\n",
       "  (3, 1),\n",
       "  (1, 2),\n",
       "  (2, 4),\n",
       "  (1, 6),\n",
       "  (3, 7),\n",
       "  (4, 5),\n",
       "  (6, 6),\n",
       "  (4, 7),\n",
       "  (2, 6),\n",
       "  (3, 4),\n",
       "  (1, 3),\n",
       "  (2, 1),\n",
       "  (3, 3),\n",
       "  (1, 4),\n",
       "  (2, 2),\n",
       "  (4, 1),\n",
       "  (6, 2),\n",
       "  (4, 3),\n",
       "  (5, 1),\n",
       "  (7, 2),\n",
       "  (6, 4),\n",
       "  (5, 2),\n",
       "  (7, 1)]]"
      ]
     },
     "execution_count": 1,
     "metadata": {},
     "output_type": "execute_result"
    }
   ],
   "source": [
    "# warnsdroffs algorithm  --> knight tour problem\n",
    "\n",
    "def is_valid_state(state,n):\n",
    "    for i in range(1,n+1):\n",
    "        for j in range(1,n+1):\n",
    "            if (i,j) in state:\n",
    "                pass\n",
    "            else:\n",
    "                return False\n",
    "    return True\n",
    "\n",
    "def get_candidate(state,n):\n",
    "    if state == []:\n",
    "        return [(1,1)]\n",
    "    currpos = state[-1]\n",
    "    i,j = currpos\n",
    "    \n",
    "    if i > n or j > n or i < 0 or j < 0 :\n",
    "            return None\n",
    "        \n",
    "    def possible_positions(i,j,n):\n",
    "        if i > n or j > n or i < 0 or j < 0 :\n",
    "            return []\n",
    "        possibilities = [(i+2,j+1),(i+2,j-1),(i-2,j+1),(i-2,j-1),(i+1,j+2),(i-1,j+2),(i+1,j-2),(i-1,j-2)]\n",
    "        pos = []\n",
    "        for m,k in possibilities:\n",
    "            if m <= n and k <= n and m > 0 and k > 0:\n",
    "                pos.append((m,k))\n",
    "        return pos\n",
    "    \n",
    "    positions = possible_positions(i,j,n)\n",
    "    candidate = []\n",
    "    for p in positions:\n",
    "        if p in state:\n",
    "            pass\n",
    "        else:\n",
    "            candidate.append(p)\n",
    "    return candidate\n",
    "\n",
    "def search(state,solutions,n,memo={}):\n",
    "    if solutions:\n",
    "        return\n",
    "    if state != [] and state[-1] in memo:\n",
    "        return memo[state[-1]]\n",
    "    if is_valid_state(state,n):\n",
    "        memo[state[-1]] = state\n",
    "        solutions.append(state.copy())\n",
    "        return\n",
    "    if len(state) == n**2:\n",
    "        return\n",
    "    for cand in get_candidate(state,n):\n",
    "        state.append(cand)\n",
    "        search(state,solutions,n)\n",
    "        state.pop()\n",
    "        \n",
    "def solve(n):\n",
    "    state = []\n",
    "    solutions = []\n",
    "    search(state,solutions,n)\n",
    "    return solutions\n",
    "\n",
    "solve(7)"
   ]
  },
  {
   "cell_type": "code",
   "execution_count": null,
   "metadata": {},
   "outputs": [],
   "source": []
  }
 ],
 "metadata": {
  "kernelspec": {
   "display_name": "Python 3",
   "language": "python",
   "name": "python3"
  },
  "language_info": {
   "codemirror_mode": {
    "name": "ipython",
    "version": 3
   },
   "file_extension": ".py",
   "mimetype": "text/x-python",
   "name": "python",
   "nbconvert_exporter": "python",
   "pygments_lexer": "ipython3",
   "version": "3.7.4"
  }
 },
 "nbformat": 4,
 "nbformat_minor": 4
}
